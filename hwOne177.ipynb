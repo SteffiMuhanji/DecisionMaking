{
 "cells": [
  {
   "cell_type": "code",
   "execution_count": 2,
   "metadata": {
    "collapsed": false
   },
   "outputs": [
    {
     "name": "stdout",
     "output_type": "stream",
     "text": [
      "0.082231824364493639\n"
     ]
    }
   ],
   "source": [
    "# % Assignment 1\n",
    "# %% Question 1\n",
    "# % Find a vector that is perpendicular to the columns\n",
    "import numpy as np\n",
    "import scipy as sp\n",
    "import scipy.io as sio\n",
    "from pprint import pprint\n",
    "data = sio.loadmat('./HW1/A1P1.mat')\n",
    "A = data['A1P1']\n",
    "Q,R = sp.linalg.qr(A)\n",
    "# % Find a vector that is perpendicular to the columns A, i.e. the\n",
    "# dot product A'v = 0 is equal to zero\n",
    "v = (Q[:,99])\n",
    "# % check calculation, should equal zero\n",
    "check = np.dot(A.T,v)\n",
    "# pprint(check)\n",
    "# %% the vector should have a euclidean length of 1\n",
    "# % Check\n",
    "normV = v/np.linalg.norm(v)\n",
    "ans = normV[11]\n",
    "pprint(ans)\n",
    "# confirm that the norm of the normalized vector norm(normv) = 1\n",
    "check1 = np.linalg.norm(normV)\n",
    "# pprint(ans)\n",
    "# \n",
    "b = np.ones((100,1))\n",
    "# pprint(b)\n",
    "x1 = np.dot(np.linalg.pinv(A),b)\n",
    "# pprint(x1)\n",
    "x2 = np.linalg.lstsq(A,b)"
   ]
  },
  {
   "cell_type": "markdown",
   "metadata": {},
   "source": [
    "Question 1 b\n",
    "\n",
    "x[12] = 0.0822\n",
    "\n",
    "Question 1 c-- reasoning\n",
    "$$min ||Ax-b||^2$$\n",
    "$$||Ax-b||_2 = (Ax-b)^T(Ax-b)$$\n",
    "$$(Ax)^TAx -b^TAx-b(Ax)^T+b^Tb$$ $$since\\cdots b^TAx=b(Ax)^T$$\n",
    "$$x^TA^TAx-2b^TAx+b^Tb = F(x)$$\n",
    "To minimize the function, we need to find the x values where the gradient is minimized.\n",
    "That is $\\nabla F(x) = 0$\n",
    "$$\\nabla F(x) = 2A^TAx-2Ab = 0$$\n",
    "$$2A^T(Ax-b) = 0$$\n",
    "$$A^T(Ax-b) = 0$$\n",
    "$$x=A\\\\b \\text{ OR }  x=(A^TA)\\(A^Tb)$$\n",
    "\n"
   ]
  },
  {
   "cell_type": "code",
   "execution_count": 5,
   "metadata": {
    "collapsed": false
   },
   "outputs": [
    {
     "name": "stdout",
     "output_type": "stream",
     "text": [
      "512.37539081017371\n"
     ]
    }
   ],
   "source": [
    "# Question 1 b\n",
    "U,S,V = np.linalg.svd(A,full_matrices=True)\n",
    "pprint(S[44])"
   ]
  },
  {
   "cell_type": "markdown",
   "metadata": {},
   "source": [
    "Question 1 d\n",
    "\n",
    "45 largest Singular value\n",
    "\n",
    "S[45] = 512.375\n",
    "\n",
    "Question 2\n",
    "$$G(y) = ||y-b||^2-0.0001$$\n",
    "$$||y-b||_2 = (y-b)^T(y-b)$$\n",
    "$$=y^Ty-b^Ty-y^Tb+b^Tb$$\n",
    "$$y^Ty-2y^Tb+b^Tb$$\n",
    "$$\\nabla G(y) = 2y-2b$$\n",
    "$$\\nabla G(y) = 2(y-b)$$\n"
   ]
  },
  {
   "cell_type": "code",
   "execution_count": 22,
   "metadata": {
    "collapsed": false
   },
   "outputs": [
    {
     "data": {
      "image/png": "[encoded data removed]",
      "text/plain": [
       "<matplotlib.figure.Figure at 0x107801d50>"
      ]
     },
     "metadata": {},
     "output_type": "display_data"
    }
   ],
   "source": [
    "# %% the vector should have a euclidean length of 1\n",
    "# % Check\n",
    "import matplotlib.pyplot as plt\n",
    "import scipy as sp\n",
    "import scipy.io as sio\n",
    "data = sio.loadmat('./HW1/A1P3.mat')\n",
    "B = data['A1P3']\n",
    "y = B[0,:]\n",
    "x = B[1:]\n",
    "# Visualize\n",
    "x1 = x[0,:]\n",
    "x2 = x[1,:]\n",
    "x3 = x[2,:]\n",
    "x4 = x[3,:]\n",
    "a = np.random.rand(5,1)\n",
    "alpha = 0.001\n",
    "aa = []\n",
    "nIter = 10000\n",
    "rng =np.arange(0,nIter)\n",
    "for k in range(0,nIter):\n",
    "    i = np.random.randint(10000,size=1) \n",
    "    aa.append(a.flatten().tolist())\n",
    "    yhat = a[0]*x[0,i]+a[1]*x[1,i]+a[2]*x[2,i]+a[3]*x[3,i]+a[4]\n",
    "    err = (yhat>0-y[i])\n",
    "    a = (a-(np.append(x[:,i],1)*err*alpha).reshape(5,1))\n",
    "x1 = np.asarray(aa)[:,0].tolist()\n",
    "x2 = np.asarray(aa)[:,1].tolist()\n",
    "x3 = np.asarray(aa)[:,2].tolist()\n",
    "x4 = np.asarray(aa)[:,3].tolist()\n",
    "x5 = np.asarray(aa)[:,4].tolist()\n",
    "plt.plot(rng,x1,'r',rng,x2,'b',rng,x3,'g',rng,x4,'m',rng,x5,'y')\n",
    "plt.ylabel(\"a values\")\n",
    "plt.xlabel(\"Iteration\")\n",
    "plt.legend(labels=['a1','a2','a3','a4','a5'])\n",
    "plt.show()\n",
    "# j = [np.asarray(aa[i].flatten().tolist()) for i in range(0, len(aa))]\n",
    "# pprint(j[1,1])\n",
    "# pprint([np.asarray(aa[i].flatten().tolist()) for i in range(0, len(aa))])\n"
   ]
  },
  {
   "cell_type": "markdown",
   "metadata": {},
   "source": [
    "Hyperplane equation\n",
    "\n",
    "$$F(a1,a2,a3,a4,a5,x1,x2,x3,x4) = a1*x1+a2*x2+a3*x3+a4*x4+a5$$"
   ]
  },
  {
   "cell_type": "code",
   "execution_count": null,
   "metadata": {
    "collapsed": true
   },
   "outputs": [],
   "source": []
  }
 ],
 "metadata": {
  "kernelspec": {
   "display_name": "Python 2",
   "language": "python",
   "name": "python2"
  },
  "language_info": {
   "codemirror_mode": {
    "name": "ipython",
    "version": 2
   },
   "file_extension": ".py",
   "mimetype": "text/x-python",
   "name": "python",
   "nbconvert_exporter": "python",
   "pygments_lexer": "ipython2",
   "version": "2.7.12"
  }
 },
 "nbformat": 4,
 "nbformat_minor": 2
}
