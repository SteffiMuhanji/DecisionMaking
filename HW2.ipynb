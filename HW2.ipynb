{
 "cells": [
  {
   "cell_type": "code",
   "execution_count": 11,
   "metadata": {
    "collapsed": true
   },
   "outputs": [],
   "source": [
    "from __future__ import print_function\n",
    "from __future__ import division\n",
    "import tensorflow as tf\n",
    "import scipy.io as sio\n",
    "import numpy as np\n",
    "from datetime import datetime\n",
    "from pprint import pprint"
   ]
  },
  {
   "cell_type": "code",
   "execution_count": 12,
   "metadata": {
    "collapsed": false
   },
   "outputs": [],
   "source": [
    "from sklearn.cross_validation import train_test_split"
   ]
  },
  {
   "cell_type": "code",
   "execution_count": 13,
   "metadata": {
    "collapsed": false
   },
   "outputs": [
    {
     "name": "stdout",
     "output_type": "stream",
     "text": [
      "(9000, 10)\n",
      "10\n"
     ]
    }
   ],
   "source": [
    "A =  sio.loadmat('./HW2/A2P2.mat')['A']\n",
    "X = A[:,0:-1]\n",
    "Y = A[:,-1].reshape(10000,1)\n",
    "trainX,testx,trainY,testy = train_test_split(X,Y,test_size = 0.1)\n",
    "\n",
    "print(trainX.shape)\n",
    "# Set model parameters\n",
    "num_features = trainX.shape[1] # num of input nodes\n",
    "num_labels = 1 # num of outcomes\n",
    "pprint(num_features)\n",
    "num_samples = trainX.shape[0]\n",
    "h_size = 5 # num hidden layers\n",
    "# Training parameters\n",
    "training_epochs = 10000\n",
    "n_hidden_1 = 100\n",
    "n_hidden_2 = 80\n",
    "n_hidden_3 = 50\n",
    "n_hidden_4 = 10\n",
    "n_hidden_5 = 1\n",
    "\n",
    "epoch_size = 100\n",
    "display_step = 500\n",
    "learning_rate = 0.01\n",
    "\n",
    "# Set the directory to specify where the summary will be written\n",
    "summaries_dir = \"./HW2/SummaryDir\" + datetime.now().strftime('%Y%m%d_%H_%M_%S')\n",
    "\n",
    "# pprint(trainX[:,1])"
   ]
  },
  {
   "cell_type": "code",
   "execution_count": 14,
   "metadata": {
    "collapsed": false
   },
   "outputs": [],
   "source": [
    "x_ = tf.placeholder(tf.float32,[None,num_features])\n",
    "y_ = tf.placeholder(tf.float32,[None,num_labels])"
   ]
  },
  {
   "cell_type": "code",
   "execution_count": 15,
   "metadata": {
    "collapsed": true
   },
   "outputs": [],
   "source": [
    "# Create model\n",
    "def multilayer_perceptron(x, weights, biases):\n",
    "    # Hidden layer with RELU activation\n",
    "    layer_1 = tf.add(tf.matmul(x, weights['h1']), biases['b1'])\n",
    "    layer_1 = tf.sigmoid(layer_1)\n",
    "    \n",
    "    # Hidden layer with RELU activation\n",
    "    layer_2 = tf.add(tf.matmul(layer_1, weights['h2']), biases['b2'])\n",
    "    layer_2 = tf.sigmoid(layer_2)\n",
    "    \n",
    "    # Hidden layer with RELU activation\n",
    "    layer_3 = tf.add(tf.matmul(layer_2,weights['h3']),biases['b3'])\n",
    "    layer_3 = tf.sigmoid(layer_3)\n",
    "    \n",
    "    # Hidden layer with sigmoid activation\n",
    "    layer_4 = tf.add(tf.matmul(layer_3,weights['h4']),biases['b4'])\n",
    "    layer_4 = tf.sigmoid(layer_4)\n",
    "     \n",
    "    # Hidden layer with sigmoid activation\n",
    "    layer_5 = tf.add(tf.matmul(layer_4,weights['h5']),biases['b5'])\n",
    "    layer_5 = tf.sigmoid(layer_5)\n",
    "    \n",
    "    # Output layer with linear activation\n",
    "#     out_layer = tf.matmul(layer_5, weights['out']) + biases['out']\n",
    "    return layer_5"
   ]
  },
  {
   "cell_type": "code",
   "execution_count": 16,
   "metadata": {
    "collapsed": false
   },
   "outputs": [],
   "source": [
    "# Store layers weight & bias\n",
    "weights = {\n",
    "    'h1': tf.Variable(tf.random_normal([num_features, n_hidden_1])),\n",
    "    'h2': tf.Variable(tf.random_normal([n_hidden_1, n_hidden_2])),\n",
    "    'h3': tf.Variable(tf.random_normal([n_hidden_2, n_hidden_3])),\n",
    "    'h4': tf.Variable(tf.random_normal([n_hidden_3, n_hidden_4])),\n",
    "    'h5': tf.Variable(tf.random_normal([n_hidden_4, n_hidden_5])),\n",
    "#     'out': tf.Variable(tf.random_normal([n_hidden_5, num_labels]))\n",
    "}\n",
    "biases = {\n",
    "    'b1': tf.Variable(tf.random_normal([n_hidden_1])),\n",
    "    'b2': tf.Variable(tf.random_normal([n_hidden_2])),\n",
    "    'b3': tf.Variable(tf.random_normal([n_hidden_3])),\n",
    "    'b4': tf.Variable(tf.random_normal([n_hidden_4])),\n",
    "    'b5': tf.Variable(tf.random_normal([n_hidden_5])),\n",
    "#     'out': tf.Variable(tf.random_normal([num_labels]))\n",
    "}"
   ]
  },
  {
   "cell_type": "code",
   "execution_count": 17,
   "metadata": {
    "collapsed": false
   },
   "outputs": [],
   "source": [
    "# Construct model\n",
    "pred = multilayer_perceptron(x_, weights, biases)\n",
    "# Define loss and optimizer\n",
    "cost = tf.reduce_mean(tf.nn.sigmoid_cross_entropy_with_logits(logits=pred, targets=y_))\n",
    "optimizer = tf.train.GradientDescentOptimizer(learning_rate=learning_rate).minimize(cost)\n",
    "# Initializing the variables\n",
    "init = tf.global_variables_initializer()\n",
    "# Test model using the test data generated in 1\n",
    "correct_prediction = tf.equal(tf.round(pred),y_)\n",
    "# correct_prediction = tf.equal(tf.argmax(pred,1),tf.argmax(y_,1))\n",
    "# Calculate accuracy\n",
    "accuracy = tf.reduce_mean(tf.cast(correct_prediction,tf.float32))\n"
   ]
  },
  {
   "cell_type": "code",
   "execution_count": null,
   "metadata": {
    "collapsed": false
   },
   "outputs": [
    {
     "name": "stdout",
     "output_type": "stream",
     "text": [
      "Epoch: 0, Cost: 0.840892688, Accuracy: 0.4418\n",
      "Epoch: 500, Cost: 0.623696958, Accuracy: 0.8072\n",
      "Epoch: 1000, Cost: 0.585612322, Accuracy: 0.8636\n",
      "Epoch: 1500, Cost: 0.578584262, Accuracy: 0.8752\n",
      "Epoch: 2000, Cost: 0.575373309, Accuracy: 0.8794\n",
      "Epoch: 2500, Cost: 0.573445803, Accuracy: 0.8830\n",
      "Epoch: 3000, Cost: 0.572142512, Accuracy: 0.8851\n",
      "Epoch: 3500, Cost: 0.571195187, Accuracy: 0.8868\n",
      "Epoch: 4000, Cost: 0.570457386, Accuracy: 0.8880\n",
      "Epoch: 4500, Cost: 0.569855185, Accuracy: 0.8887\n"
     ]
    }
   ],
   "source": [
    "# Train the network\n",
    "with tf.Session() as sess:\n",
    "    sess.run(init)\n",
    "    for epoch in range(training_epochs):\n",
    "        avg_cost = 0\n",
    "        batch_sz=100\n",
    "        accr = []\n",
    "        total_len=np.shape(trainX)[0]\n",
    "        total_batch = int(total_len/batch_sz)\n",
    "        for i in xrange(0,total_len,batch_sz):\n",
    "            acc,_,c = sess.run([accuracy,optimizer,cost],\\\n",
    "                           feed_dict={x_:trainX[i:i+batch_sz],\\\n",
    "                                      y_:trainY[i:i+batch_sz]})\n",
    "            avg_cost += c/total_batch\n",
    "            accr.append(acc)\n",
    "        acc = np.mean(accr)\n",
    "        if epoch % display_step == 0:\n",
    "            print('Epoch: {0}, Cost: {1:.9f}, Accuracy: {2:.4f}'.format(epoch,avg_cost,acc))\n",
    "    print(\"Done with training!!!\")\n",
    "# Test model using the test data generated in 1\n",
    "# correct_prediction = tf.equal(tf.argmax(pred,1),tf.argmax(y_,1))\n",
    "# # Calculate accuracy\n",
    "# accuracy = tf.reduce_mean(tf.cast(correct_prediction,\"float\"))\n",
    "print(\"final cost on test set: %s\" %str(sess.run(accuracy, feed_dict={x_:testx, y_:testy})))"
   ]
  },
  {
   "cell_type": "code",
   "execution_count": null,
   "metadata": {
    "collapsed": true
   },
   "outputs": [],
   "source": [
    "bb = trainY[i:i+batch_sz]"
   ]
  },
  {
   "cell_type": "code",
   "execution_count": null,
   "metadata": {
    "collapsed": false
   },
   "outputs": [],
   "source": [
    "np.shape(bb)"
   ]
  },
  {
   "cell_type": "code",
   "execution_count": null,
   "metadata": {
    "collapsed": true
   },
   "outputs": [],
   "source": []
  },
  {
   "cell_type": "code",
   "execution_count": null,
   "metadata": {
    "collapsed": true
   },
   "outputs": [],
   "source": []
  }
 ],
 "metadata": {
  "kernelspec": {
   "display_name": "Python 2",
   "language": "python",
   "name": "python2"
  },
  "language_info": {
   "codemirror_mode": {
    "name": "ipython",
    "version": 2
   },
   "file_extension": ".py",
   "mimetype": "text/x-python",
   "name": "python",
   "nbconvert_exporter": "python",
   "pygments_lexer": "ipython2",
   "version": "2.7.12"
  }
 },
 "nbformat": 4,
 "nbformat_minor": 2
}
