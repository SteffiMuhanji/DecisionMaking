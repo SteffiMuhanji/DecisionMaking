{
 "cells": [
  {
   "cell_type": "code",
   "execution_count": 1,
   "metadata": {
    "collapsed": true
   },
   "outputs": [],
   "source": [
    "import numpy as np\n",
    "import h5py\n",
    "import pandas as pd"
   ]
  },
  {
   "cell_type": "code",
   "execution_count": 2,
   "metadata": {
    "collapsed": true
   },
   "outputs": [],
   "source": [
    "f = h5py.File('Data/train.h5','r')"
   ]
  },
  {
   "cell_type": "code",
   "execution_count": 3,
   "metadata": {
    "collapsed": true
   },
   "outputs": [],
   "source": [
    "def printName(name):\n",
    "    print(name)"
   ]
  },
  {
   "cell_type": "code",
   "execution_count": 4,
   "metadata": {
    "collapsed": false
   },
   "outputs": [
    {
     "name": "stdout",
     "output_type": "stream",
     "text": [
      "train\n",
      "train/axis0\n",
      "train/axis1\n",
      "train/block0_items\n",
      "train/block0_values\n",
      "train/block1_items\n",
      "train/block1_values\n"
     ]
    }
   ],
   "source": [
    "f.visit(printName)"
   ]
  },
  {
   "cell_type": "code",
   "execution_count": 5,
   "metadata": {
    "collapsed": true
   },
   "outputs": [],
   "source": [
    "# Save the data as variables\n",
    "axis0 = f[\"train/axis0\"][:]\n",
    "axis1 = f[\"train/axis1\"][:]\n",
    "block0_items = f[\"train/block0_items\"][:]\n",
    "block0_values = f[\"train/block0_values\"][:]\n",
    "block1_items = f[\"train/block1_items\"][:]\n",
    "block1_values = f[\"train/block1_values\"][:]"
   ]
  },
  {
   "cell_type": "code",
   "execution_count": 6,
   "metadata": {
    "collapsed": false
   },
   "outputs": [
    {
     "data": {
      "text/plain": [
       "(111,)"
      ]
     },
     "execution_count": 6,
     "metadata": {},
     "output_type": "execute_result"
    }
   ],
   "source": [
    "axis0.shape"
   ]
  },
  {
   "cell_type": "code",
   "execution_count": 7,
   "metadata": {
    "collapsed": false
   },
   "outputs": [
    {
     "data": {
      "text/plain": [
       "(1710756,)"
      ]
     },
     "execution_count": 7,
     "metadata": {},
     "output_type": "execute_result"
    }
   ],
   "source": [
    "axis1.shape"
   ]
  },
  {
   "cell_type": "code",
   "execution_count": 8,
   "metadata": {
    "collapsed": false
   },
   "outputs": [
    {
     "data": {
      "text/plain": [
       "(2,)"
      ]
     },
     "execution_count": 8,
     "metadata": {},
     "output_type": "execute_result"
    }
   ],
   "source": [
    "block0_items.shape"
   ]
  },
  {
   "cell_type": "code",
   "execution_count": 9,
   "metadata": {
    "collapsed": false
   },
   "outputs": [
    {
     "data": {
      "text/plain": [
       "(1710756, 2)"
      ]
     },
     "execution_count": 9,
     "metadata": {},
     "output_type": "execute_result"
    }
   ],
   "source": [
    "block0_values.shape"
   ]
  },
  {
   "cell_type": "code",
   "execution_count": 10,
   "metadata": {
    "collapsed": false
   },
   "outputs": [
    {
     "data": {
      "text/plain": [
       "(109,)"
      ]
     },
     "execution_count": 10,
     "metadata": {},
     "output_type": "execute_result"
    }
   ],
   "source": [
    "block1_items.shape"
   ]
  },
  {
   "cell_type": "code",
   "execution_count": 11,
   "metadata": {
    "collapsed": false
   },
   "outputs": [
    {
     "data": {
      "text/plain": [
       "(1710756, 109)"
      ]
     },
     "execution_count": 11,
     "metadata": {},
     "output_type": "execute_result"
    }
   ],
   "source": [
    "block1_values.shape"
   ]
  },
  {
   "cell_type": "code",
   "execution_count": 12,
   "metadata": {
    "collapsed": true
   },
   "outputs": [],
   "source": [
    "# Make a table of the data items\n",
    "data = np.hstack((block0_values,block1_values))\n",
    "columns = axis0\n",
    "index = axis1"
   ]
  },
  {
   "cell_type": "code",
   "execution_count": 13,
   "metadata": {
    "collapsed": false
   },
   "outputs": [],
   "source": [
    "# Store data in a dataframe\n",
    "DF = pd.DataFrame(data=data,index=index,columns=columns)"
   ]
  },
  {
   "cell_type": "code",
   "execution_count": 14,
   "metadata": {
    "collapsed": false
   },
   "outputs": [
    {
     "data": {
      "text/plain": [
       "id                     0\n",
       "timestamp              0\n",
       "derived_0          72959\n",
       "derived_1          81029\n",
       "derived_2         398651\n",
       "derived_3         149471\n",
       "derived_4         406458\n",
       "fundamental_0      23947\n",
       "fundamental_1     679070\n",
       "fundamental_2     368840\n",
       "fundamental_3     454380\n",
       "fundamental_5     962020\n",
       "fundamental_6     701625\n",
       "fundamental_7      26340\n",
       "fundamental_8     373166\n",
       "fundamental_9     565567\n",
       "fundamental_10    112977\n",
       "fundamental_11    368840\n",
       "fundamental_12    110871\n",
       "fundamental_13    355138\n",
       "fundamental_14    356084\n",
       "fundamental_15    354897\n",
       "fundamental_16    355138\n",
       "fundamental_17     97222\n",
       "fundamental_18     15833\n",
       "fundamental_19     54588\n",
       "fundamental_20    110871\n",
       "fundamental_21     54333\n",
       "fundamental_22    558488\n",
       "fundamental_23    356723\n",
       "                   ...  \n",
       "technical_13        4764\n",
       "technical_14       14184\n",
       "technical_16       19981\n",
       "technical_17        4279\n",
       "technical_18       20016\n",
       "technical_19        2320\n",
       "technical_20        4764\n",
       "technical_21        2236\n",
       "technical_22           0\n",
       "technical_24       71146\n",
       "technical_25      208056\n",
       "technical_27        2420\n",
       "technical_28      262916\n",
       "technical_29       61615\n",
       "technical_30        4764\n",
       "technical_31      182678\n",
       "technical_32       19165\n",
       "technical_33       14535\n",
       "technical_34           0\n",
       "technical_35        3155\n",
       "technical_36        2552\n",
       "technical_37       19165\n",
       "technical_38       19165\n",
       "technical_39       20016\n",
       "technical_40        2236\n",
       "technical_41       44189\n",
       "technical_42       20001\n",
       "technical_43        4686\n",
       "technical_44      236779\n",
       "y                      0\n",
       "dtype: int64"
      ]
     },
     "execution_count": 14,
     "metadata": {},
     "output_type": "execute_result"
    }
   ],
   "source": [
    "# Find the number of null items in each column\n",
    "DF.head(block1_values.shape[0]).isnull().sum()"
   ]
  },
  {
   "cell_type": "code",
   "execution_count": 17,
   "metadata": {
    "collapsed": false
   },
   "outputs": [],
   "source": [
    "df = DF"
   ]
  },
  {
   "cell_type": "code",
   "execution_count": 18,
   "metadata": {
    "collapsed": false
   },
   "outputs": [
    {
     "name": "stdout",
     "output_type": "stream",
     "text": [
      "Number of rows with a NaN: 1487716\n",
      "Number of rows without a NaN: 223040\n"
     ]
    }
   ],
   "source": [
    "df_idx = df.iloc[:,:].isnull()\n",
    "no_nan = np.sum(np.sum(df_idx,axis=1) > 0) # number of rows with at least 1 NAN\n",
    "no_nnan = len(df_idx) - no_nan\n",
    "\n",
    "print 'Number of rows with a NaN: {0}'.format(no_nan)\n",
    "print 'Number of rows without a NaN: {0}'.format(no_nnan)"
   ]
  },
  {
   "cell_type": "code",
   "execution_count": 19,
   "metadata": {
    "collapsed": true
   },
   "outputs": [],
   "source": [
    "# Eliminate rows with nan items\n",
    "df_nnan = df.dropna(axis=0,how='any')"
   ]
  },
  {
   "cell_type": "code",
   "execution_count": 20,
   "metadata": {
    "collapsed": false
   },
   "outputs": [
    {
     "data": {
      "text/plain": [
       "(223040, 111)"
      ]
     },
     "execution_count": 20,
     "metadata": {},
     "output_type": "execute_result"
    }
   ],
   "source": [
    "df_nnan.shape"
   ]
  },
  {
   "cell_type": "code",
   "execution_count": 21,
   "metadata": {
    "collapsed": false
   },
   "outputs": [],
   "source": [
    "import numpy as np\n",
    "data = df_nnan[:3000]\n",
    "data = np.array(data)\n",
    "data.shape\n",
    "# Split data into labels and variables\n",
    "X = data[:,2:-1]\n",
    "Y = data[:,-1].reshape(3000,1)\n",
    "# data"
   ]
  },
  {
   "cell_type": "code",
   "execution_count": 22,
   "metadata": {
    "collapsed": false
   },
   "outputs": [
    {
     "data": {
      "text/plain": [
       "(3000, 108)"
      ]
     },
     "execution_count": 22,
     "metadata": {},
     "output_type": "execute_result"
    }
   ],
   "source": [
    "X.shape"
   ]
  },
  {
   "cell_type": "code",
   "execution_count": 23,
   "metadata": {
    "collapsed": false
   },
   "outputs": [
    {
     "data": {
      "text/plain": [
       "(3000, 1)"
      ]
     },
     "execution_count": 23,
     "metadata": {},
     "output_type": "execute_result"
    }
   ],
   "source": [
    "Y.shape"
   ]
  },
  {
   "cell_type": "code",
   "execution_count": 60,
   "metadata": {
    "collapsed": false
   },
   "outputs": [],
   "source": [
    "from sklearn.cross_validation import train_test_split\n",
    "trainX,testx,trainY,testy = train_test_split(X,Y,test_size = 0.3)"
   ]
  },
  {
   "cell_type": "code",
   "execution_count": 61,
   "metadata": {
    "collapsed": false
   },
   "outputs": [
    {
     "data": {
      "text/plain": [
       "(2100, 108)"
      ]
     },
     "execution_count": 61,
     "metadata": {},
     "output_type": "execute_result"
    }
   ],
   "source": [
    "trainX.shape"
   ]
  },
  {
   "cell_type": "code",
   "execution_count": 62,
   "metadata": {
    "collapsed": false
   },
   "outputs": [],
   "source": [
    "# Import Keras Libraries\n",
    "from keras.models import Sequential\n",
    "from keras.layers import Dense, Activation\n",
    "from keras.optimizers import SGD\n",
    "import sklearn"
   ]
  },
  {
   "cell_type": "code",
   "execution_count": 64,
   "metadata": {
    "collapsed": false
   },
   "outputs": [],
   "source": [
    "# Define Model Parameters\n",
    "nb_feat   = 108   # no. of features/columns of input\n",
    "L1_units  = 100   # no. of nodes in Layer 1\n",
    "L2_units  = 80   # no. of nodes in Layer 2\n",
    "L3_units  = 50   # no. of nodes in Layer 2\n",
    "L4_units = 10\n",
    "nb_class  = 1    # no. of output classes\n",
    "\n",
    "model = Sequential()\n",
    "# Neural Network Model\n",
    "model = Sequential()                             # Sequential network model description\n",
    "model.add(Dense(L1_units,input_dim=108))    # Add 1st Dense Layer\n",
    "model.add(Activation(\"tanh\"))                    # Add activation function\n",
    "\n",
    "model.add(Dense(L2_units,))                       # Add 2nd Dense Layer\n",
    "model.add(Activation(\"tanh\"))                    # Add activation function\n",
    "\n",
    "model.add(Dense(L3_units))                       # Add 3nd Dense Layer\n",
    "model.add(Activation(\"tanh\"))                    # Add activation function\n",
    "\n",
    "model.add(Dense(L4_units))                       # Add 4nd Dense Layer\n",
    "model.add(Activation(\"tanh\"))                    # Add activation function\n",
    "\n",
    "model.add(Dense(nb_class))                       # Add 5rd Dense Layer, also the classification layer\n",
    "model.add(Activation('linear'))                 # Add sigmoid classification\n"
   ]
  },
  {
   "cell_type": "code",
   "execution_count": 65,
   "metadata": {
    "collapsed": true
   },
   "outputs": [],
   "source": [
    "model.compile(loss='mean_squared_error',optimizer='rmsprop', metrics=['accuracy'])"
   ]
  },
  {
   "cell_type": "code",
   "execution_count": 66,
   "metadata": {
    "collapsed": false
   },
   "outputs": [],
   "source": [
    "log = model.fit(trainX, trainY,nb_epoch=30, batch_size=20, verbose=0)\n",
    "# ,validation_data=(testx, testy)\n",
    "# df3k = df_3k.iloc[:,2:]\n",
    "# sname = 'xtrip.csv'\n",
    "# np.savetxt(sname,delimeter = ',')"
   ]
  },
  {
   "cell_type": "code",
   "execution_count": 57,
   "metadata": {
    "collapsed": false
   },
   "outputs": [
    {
     "data": {
      "text/plain": [
       "<keras.callbacks.History at 0x1632a16d0>"
      ]
     },
     "execution_count": 57,
     "metadata": {},
     "output_type": "execute_result"
    }
   ],
   "source": [
    "log"
   ]
  },
  {
   "cell_type": "code",
   "execution_count": 77,
   "metadata": {
    "collapsed": false
   },
   "outputs": [
    {
     "data": {
      "text/plain": [
       "[0.012092550826214609,\n",
       " 0.0027792766302203137,\n",
       " 0.0015687499311752618,\n",
       " 0.0012325582787438873,\n",
       " 0.000970388446668429,\n",
       " 0.00080035184995116049,\n",
       " 0.00060543944529767725,\n",
       " 0.0005183837210920284,\n",
       " 0.0004945178248038116,\n",
       " 0.0004562794514987174,\n",
       " 0.00041663335584979946,\n",
       " 0.00039132661643504564,\n",
       " 0.00045413093633084957,\n",
       " 0.00038893272493234168,\n",
       " 0.00037352290805540094,\n",
       " 0.00036717437864613854,\n",
       " 0.00036387303324383018,\n",
       " 0.00035298085221300077,\n",
       " 0.0003655178561790048,\n",
       " 0.00035703934381239204,\n",
       " 0.00035230463974931766,\n",
       " 0.00033803443102875638,\n",
       " 0.0003551591636053109,\n",
       " 0.00034174560486072939,\n",
       " 0.00036706029779798842,\n",
       " 0.00046160961937857792,\n",
       " 0.00041910914068077023,\n",
       " 0.00038404417531897445,\n",
       " 0.00036394586918287955,\n",
       " 0.00034007796604696306]"
      ]
     },
     "execution_count": 77,
     "metadata": {},
     "output_type": "execute_result"
    }
   ],
   "source": [
    "loss = log.history['loss']\n",
    "loss"
   ]
  },
  {
   "cell_type": "code",
   "execution_count": 68,
   "metadata": {
    "collapsed": false
   },
   "outputs": [
    {
     "data": {
      "image/png": "[encoded data removed]",
      "text/plain": [
       "<matplotlib.figure.Figure at 0x164c4fd10>"
      ]
     },
     "metadata": {},
     "output_type": "display_data"
    }
   ],
   "source": [
    "import matplotlib.pyplot as plt\n",
    "plt.plot(loss)\n",
    "plt.show()"
   ]
  },
  {
   "cell_type": "code",
   "execution_count": 72,
   "metadata": {
    "collapsed": false
   },
   "outputs": [
    {
     "data": {
      "text/plain": [
       "['loss', 'acc']"
      ]
     },
     "execution_count": 72,
     "metadata": {},
     "output_type": "execute_result"
    }
   ],
   "source": [
    "model.metrics_names"
   ]
  },
  {
   "cell_type": "code",
   "execution_count": 76,
   "metadata": {
    "collapsed": false
   },
   "outputs": [
    {
     "name": "stdout",
     "output_type": "stream",
     "text": [
      "900/900 [==============================] - 0s     \b\b\b\b\b\b\b\b\b\b\b\b\b\b\b\b\b\b\b\b\b\b\b\b\b\b\b\b\b\b\b\b\b\b\b\b\b\b\b\b\b\b\b\b\b\b\b\b\b\b\b\b\b\b\b\b\b\b\b\b\b\b\b\b\b\b\b\b\b\b\b\b\b\b\b\b\b\b\b\b\b\b\b\b\b\b\b\b\b\b\b\b\b\b\b\b\b\b\b\b\b\b\b\b\b\b\b\b\b\b\b\b\b\b\b\b\b\b\b\b\b\b\b\b\b\b\b\b\b\b\b\b\b\b\b\b\b\b\b\b\b\b\b\b\b\b\b\b\b\b\b\b\b\b\b\b\b\b\b\b\b\b\b\b\b\b\b\b\b\b\b\b\b\b\b\b\b\b\b\b\b\b\b\b\b\b\b\b\b\b\b\b\b\b\b\b\b\b\b\b\b\b\b\b\b\b\b\b\b\b\b\b\b\b\b\b\b\b\b\b\b\b\b\b\b\b\b\b\b\b\b\b\b\b\b\b\b\b\b\b\b\b\b\b\b\b\b\b\b\b\b\b\b\b\b\b\b\b\b\b\b\b\b\b\b\b\b\b\b\b\b\b\b\b\b\b\b\b\b\b\b\b\b\b\b\b\b\b\b\b\b\b\b\b\b\b\b\b\b\b\b\b\b\b\b\b\b\b\b\b\b\b\b\b\b\b\b\b\b\b\b\b\b\b\b\b\b\b\b\b\b\b\b\b\b\b\b\b\b\b\b\b\b\b\b\b\b\b\b\b\b\b\b\b\b\b\b\b\b\b\b\b\b\b\b\b\b\b\b\b\b\b\b\b\b\b\b\b\b\b\b\b\b\b\b\b\b\b\b\b\b\b\b\b\b\b\b\b\b\b\b\b\b\b\b\b\b\b\b\b\b\b\b\b\b\b\b\b\b\b\b\b\b\b\b\b\b\b\b\b\b\b\b\b\b\b\b\b\b\b\b\b\b\b\b\b\b\b\b\b\b\b\b\b\b\b\b\b\b\b\b\b\b\b\b\b\b\b\b\b\b\b\b\b\b\b\b\b\b\b\b\b\b\b\b\b\b\b\b\b\b\b\b\b\b\b\b\b\b\b\b\b\b\b\b\b\b\b\b\b\b\b\b\b\b\b\b\b\b\b\b\b\b\b\b\b\b\b\b\b\b\b\b\b\b\b\b\b\b\b\b\b\b\b\b\b\b\b\b\b\b\b\b\b\b\b\b\b\b\b\b\b\b\b\b\b\b\b\b\b\b\b\b\b\b\b\b\b\b\b\b\b\b\b\b\b\b\b\b\b\b\b\b\b\b\b\b\b\b\b\b\b\b\b\b\b\b\b\b\b\b\b\b\b\b\b\b\b\b\b\b\b\b\b\b\b\b\b\b\b\b\b\b\b\b\b\b\b\b\b\b\b\b\b\b\b\b\b\b\b\b\b\b\b\b\b\b\b\b\b\b\b\b\b\b\b\b\b\b\b\b\b\b\b\b\b\b\b\b\b\b\b\b\b\b\b\b\b\b\b\b\b\b\b\b\b\b\b\b\b\b\b\b\b\b\b\b\b\b\b\b\b\b\b\b\b\b\b\b\b\b\b\b\b\b\b\b\b\b\b\b\b\b\b\b\b\b\b\b\b\b\b\b\b\b\b\b\b\b\b\n"
     ]
    },
    {
     "data": {
      "text/plain": [
       "[0.00038491168977796206, 0.0]"
      ]
     },
     "execution_count": 76,
     "metadata": {},
     "output_type": "execute_result"
    }
   ],
   "source": [
    "model.evaluate(testx, testy, batch_size=20, verbose=1, sample_weight=None)"
   ]
  },
  {
   "cell_type": "markdown",
   "metadata": {},
   "source": [
    "The model loss represents the mean squared error of the training. The plot shows that the train prediction is quite accurate as the mse error finally stops changing. The performance of the test data produces a loss of **average_loss_test = 0.00038491168977796206** as compared to the final loss of the training set **final_loss_training = 0.00034007796604696306**"
   ]
  },
  {
   "cell_type": "markdown",
   "metadata": {},
   "source": [
    "The model takes about 40 seconds to run."
   ]
  },
  {
   "cell_type": "markdown",
   "metadata": {},
   "source": [
    "As for the matlab neural network, it took about 11.00s.\n",
    "\n",
    "**MSE Error**\n",
    "\n",
    "Training 2.1679e-4\n",
    "\n",
    "Validation 3.081e-4\n",
    "\n",
    "Testing 3.4213e-4\n",
    "\n"
   ]
  },
  {
   "cell_type": "markdown",
   "metadata": {},
   "source": [
    "It does not make sense to compute the accuracy in this case because this is a regression problem as opposed to a labeling problem."
   ]
  },
  {
   "cell_type": "code",
   "execution_count": null,
   "metadata": {
    "collapsed": true
   },
   "outputs": [],
   "source": []
  }
 ],
 "metadata": {
  "kernelspec": {
   "display_name": "Python 2",
   "language": "python",
   "name": "python2"
  },
  "language_info": {
   "codemirror_mode": {
    "name": "ipython",
    "version": 2
   },
   "file_extension": ".py",
   "mimetype": "text/x-python",
   "name": "python",
   "nbconvert_exporter": "python",
   "pygments_lexer": "ipython2",
   "version": "2.7.12"
  }
 },
 "nbformat": 4,
 "nbformat_minor": 2
}
