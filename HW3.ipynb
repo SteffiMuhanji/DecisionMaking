{
 "cells": [
  {
   "cell_type": "code",
   "execution_count": 1,
   "metadata": {
    "collapsed": true
   },
   "outputs": [],
   "source": [
    "import numpy as np\n",
    "import h5py\n",
    "import pandas as pd"
   ]
  },
  {
   "cell_type": "code",
   "execution_count": 2,
   "metadata": {
    "collapsed": true
   },
   "outputs": [],
   "source": [
    "f = h5py.File('Data/train.h5','r')"
   ]
  },
  {
   "cell_type": "code",
   "execution_count": 3,
   "metadata": {
    "collapsed": true
   },
   "outputs": [],
   "source": [
    "def printName(name):\n",
    "    print(name)"
   ]
  },
  {
   "cell_type": "code",
   "execution_count": 4,
   "metadata": {
    "collapsed": false
   },
   "outputs": [
    {
     "name": "stdout",
     "output_type": "stream",
     "text": [
      "train\n",
      "train/axis0\n",
      "train/axis1\n",
      "train/block0_items\n",
      "train/block0_values\n",
      "train/block1_items\n",
      "train/block1_values\n"
     ]
    }
   ],
   "source": [
    "f.visit(printName)"
   ]
  },
  {
   "cell_type": "code",
   "execution_count": 5,
   "metadata": {
    "collapsed": true
   },
   "outputs": [],
   "source": [
    "axis0 = f[\"train/axis0\"][:]\n",
    "axis1 = f[\"train/axis1\"][:]\n",
    "block0_items = f[\"train/block0_items\"][:]\n",
    "block0_values = f[\"train/block0_values\"][:]\n",
    "block1_items = f[\"train/block1_items\"][:]\n",
    "block1_values = f[\"train/block1_values\"][:]"
   ]
  },
  {
   "cell_type": "code",
   "execution_count": 6,
   "metadata": {
    "collapsed": false
   },
   "outputs": [
    {
     "data": {
      "text/plain": [
       "(111,)"
      ]
     },
     "execution_count": 6,
     "metadata": {},
     "output_type": "execute_result"
    }
   ],
   "source": [
    "axis0.shape"
   ]
  },
  {
   "cell_type": "code",
   "execution_count": 7,
   "metadata": {
    "collapsed": false
   },
   "outputs": [
    {
     "data": {
      "text/plain": [
       "(1710756,)"
      ]
     },
     "execution_count": 7,
     "metadata": {},
     "output_type": "execute_result"
    }
   ],
   "source": [
    "axis1.shape"
   ]
  },
  {
   "cell_type": "code",
   "execution_count": 8,
   "metadata": {
    "collapsed": false
   },
   "outputs": [
    {
     "data": {
      "text/plain": [
       "(2,)"
      ]
     },
     "execution_count": 8,
     "metadata": {},
     "output_type": "execute_result"
    }
   ],
   "source": [
    "block0_items.shape"
   ]
  },
  {
   "cell_type": "code",
   "execution_count": 9,
   "metadata": {
    "collapsed": false
   },
   "outputs": [
    {
     "data": {
      "text/plain": [
       "(1710756, 2)"
      ]
     },
     "execution_count": 9,
     "metadata": {},
     "output_type": "execute_result"
    }
   ],
   "source": [
    "block0_values.shape"
   ]
  },
  {
   "cell_type": "code",
   "execution_count": 10,
   "metadata": {
    "collapsed": false
   },
   "outputs": [
    {
     "data": {
      "text/plain": [
       "(109,)"
      ]
     },
     "execution_count": 10,
     "metadata": {},
     "output_type": "execute_result"
    }
   ],
   "source": [
    "block1_items.shape"
   ]
  },
  {
   "cell_type": "code",
   "execution_count": 11,
   "metadata": {
    "collapsed": false
   },
   "outputs": [
    {
     "data": {
      "text/plain": [
       "(1710756, 109)"
      ]
     },
     "execution_count": 11,
     "metadata": {},
     "output_type": "execute_result"
    }
   ],
   "source": [
    "block1_values.shape"
   ]
  },
  {
   "cell_type": "code",
   "execution_count": 12,
   "metadata": {
    "collapsed": true
   },
   "outputs": [],
   "source": [
    "data = np.hstack((block0_values,block1_values))\n",
    "columns = axis0\n",
    "index = axis1"
   ]
  },
  {
   "cell_type": "code",
   "execution_count": 13,
   "metadata": {
    "collapsed": false
   },
   "outputs": [],
   "source": [
    "DF = pd.DataFrame(data=data,index=index,columns=columns)"
   ]
  },
  {
   "cell_type": "code",
   "execution_count": 14,
   "metadata": {
    "collapsed": false
   },
   "outputs": [
    {
     "data": {
      "text/plain": [
       "id                     0\n",
       "timestamp              0\n",
       "derived_0          72959\n",
       "derived_1          81029\n",
       "derived_2         398651\n",
       "derived_3         149471\n",
       "derived_4         406458\n",
       "fundamental_0      23947\n",
       "fundamental_1     679070\n",
       "fundamental_2     368840\n",
       "fundamental_3     454380\n",
       "fundamental_5     962020\n",
       "fundamental_6     701625\n",
       "fundamental_7      26340\n",
       "fundamental_8     373166\n",
       "fundamental_9     565567\n",
       "fundamental_10    112977\n",
       "fundamental_11    368840\n",
       "fundamental_12    110871\n",
       "fundamental_13    355138\n",
       "fundamental_14    356084\n",
       "fundamental_15    354897\n",
       "fundamental_16    355138\n",
       "fundamental_17     97222\n",
       "fundamental_18     15833\n",
       "fundamental_19     54588\n",
       "fundamental_20    110871\n",
       "fundamental_21     54333\n",
       "fundamental_22    558488\n",
       "fundamental_23    356723\n",
       "                   ...  \n",
       "technical_13        4764\n",
       "technical_14       14184\n",
       "technical_16       19981\n",
       "technical_17        4279\n",
       "technical_18       20016\n",
       "technical_19        2320\n",
       "technical_20        4764\n",
       "technical_21        2236\n",
       "technical_22           0\n",
       "technical_24       71146\n",
       "technical_25      208056\n",
       "technical_27        2420\n",
       "technical_28      262916\n",
       "technical_29       61615\n",
       "technical_30        4764\n",
       "technical_31      182678\n",
       "technical_32       19165\n",
       "technical_33       14535\n",
       "technical_34           0\n",
       "technical_35        3155\n",
       "technical_36        2552\n",
       "technical_37       19165\n",
       "technical_38       19165\n",
       "technical_39       20016\n",
       "technical_40        2236\n",
       "technical_41       44189\n",
       "technical_42       20001\n",
       "technical_43        4686\n",
       "technical_44      236779\n",
       "y                      0\n",
       "dtype: int64"
      ]
     },
     "execution_count": 14,
     "metadata": {},
     "output_type": "execute_result"
    }
   ],
   "source": [
    "DF.head(block1_values.shape[0]).isnull().sum()"
   ]
  },
  {
   "cell_type": "code",
   "execution_count": 15,
   "metadata": {
    "collapsed": false
   },
   "outputs": [],
   "source": [
    "dff  = DF[(DF.T.isnull()).any()]"
   ]
  },
  {
   "cell_type": "code",
   "execution_count": 16,
   "metadata": {
    "collapsed": false
   },
   "outputs": [
    {
     "data": {
      "text/html": [
       "<div>\n",
       "<table border=\"1\" class=\"dataframe\">\n",
       "  <thead>\n",
       "    <tr style=\"text-align: right;\">\n",
       "      <th></th>\n",
       "      <th>id</th>\n",
       "      <th>timestamp</th>\n",
       "      <th>derived_0</th>\n",
       "      <th>derived_1</th>\n",
       "      <th>derived_2</th>\n",
       "      <th>derived_3</th>\n",
       "      <th>derived_4</th>\n",
       "      <th>fundamental_0</th>\n",
       "      <th>fundamental_1</th>\n",
       "      <th>fundamental_2</th>\n",
       "      <th>...</th>\n",
       "      <th>technical_36</th>\n",
       "      <th>technical_37</th>\n",
       "      <th>technical_38</th>\n",
       "      <th>technical_39</th>\n",
       "      <th>technical_40</th>\n",
       "      <th>technical_41</th>\n",
       "      <th>technical_42</th>\n",
       "      <th>technical_43</th>\n",
       "      <th>technical_44</th>\n",
       "      <th>y</th>\n",
       "    </tr>\n",
       "  </thead>\n",
       "  <tbody>\n",
       "    <tr>\n",
       "      <th>0</th>\n",
       "      <td>10.0</td>\n",
       "      <td>0.0</td>\n",
       "      <td>0.370326</td>\n",
       "      <td>-0.006316</td>\n",
       "      <td>0.222831</td>\n",
       "      <td>-0.213030</td>\n",
       "      <td>0.729277</td>\n",
       "      <td>-0.335633</td>\n",
       "      <td>0.113292</td>\n",
       "      <td>1.621238</td>\n",
       "      <td>...</td>\n",
       "      <td>0.775208</td>\n",
       "      <td>NaN</td>\n",
       "      <td>NaN</td>\n",
       "      <td>NaN</td>\n",
       "      <td>-0.414776</td>\n",
       "      <td>NaN</td>\n",
       "      <td>NaN</td>\n",
       "      <td>-2.0</td>\n",
       "      <td>NaN</td>\n",
       "      <td>-0.011753</td>\n",
       "    </tr>\n",
       "    <tr>\n",
       "      <th>1</th>\n",
       "      <td>11.0</td>\n",
       "      <td>0.0</td>\n",
       "      <td>0.014765</td>\n",
       "      <td>-0.038064</td>\n",
       "      <td>-0.017425</td>\n",
       "      <td>0.320652</td>\n",
       "      <td>-0.034134</td>\n",
       "      <td>0.004413</td>\n",
       "      <td>0.114285</td>\n",
       "      <td>-0.210185</td>\n",
       "      <td>...</td>\n",
       "      <td>0.025590</td>\n",
       "      <td>NaN</td>\n",
       "      <td>NaN</td>\n",
       "      <td>NaN</td>\n",
       "      <td>-0.273607</td>\n",
       "      <td>NaN</td>\n",
       "      <td>NaN</td>\n",
       "      <td>-2.0</td>\n",
       "      <td>NaN</td>\n",
       "      <td>-0.001240</td>\n",
       "    </tr>\n",
       "    <tr>\n",
       "      <th>2</th>\n",
       "      <td>12.0</td>\n",
       "      <td>0.0</td>\n",
       "      <td>-0.010622</td>\n",
       "      <td>-0.050577</td>\n",
       "      <td>3.379575</td>\n",
       "      <td>-0.157525</td>\n",
       "      <td>-0.068550</td>\n",
       "      <td>-0.155937</td>\n",
       "      <td>1.219439</td>\n",
       "      <td>-0.764516</td>\n",
       "      <td>...</td>\n",
       "      <td>0.151881</td>\n",
       "      <td>NaN</td>\n",
       "      <td>NaN</td>\n",
       "      <td>NaN</td>\n",
       "      <td>-0.175710</td>\n",
       "      <td>NaN</td>\n",
       "      <td>NaN</td>\n",
       "      <td>-2.0</td>\n",
       "      <td>NaN</td>\n",
       "      <td>-0.020940</td>\n",
       "    </tr>\n",
       "    <tr>\n",
       "      <th>3</th>\n",
       "      <td>25.0</td>\n",
       "      <td>0.0</td>\n",
       "      <td>NaN</td>\n",
       "      <td>NaN</td>\n",
       "      <td>NaN</td>\n",
       "      <td>NaN</td>\n",
       "      <td>NaN</td>\n",
       "      <td>0.178495</td>\n",
       "      <td>NaN</td>\n",
       "      <td>-0.007262</td>\n",
       "      <td>...</td>\n",
       "      <td>1.035936</td>\n",
       "      <td>NaN</td>\n",
       "      <td>NaN</td>\n",
       "      <td>NaN</td>\n",
       "      <td>-0.211506</td>\n",
       "      <td>NaN</td>\n",
       "      <td>NaN</td>\n",
       "      <td>-2.0</td>\n",
       "      <td>NaN</td>\n",
       "      <td>-0.015959</td>\n",
       "    </tr>\n",
       "    <tr>\n",
       "      <th>4</th>\n",
       "      <td>26.0</td>\n",
       "      <td>0.0</td>\n",
       "      <td>0.176693</td>\n",
       "      <td>-0.025284</td>\n",
       "      <td>-0.057680</td>\n",
       "      <td>0.015100</td>\n",
       "      <td>0.180894</td>\n",
       "      <td>0.139445</td>\n",
       "      <td>-0.125687</td>\n",
       "      <td>-0.018707</td>\n",
       "      <td>...</td>\n",
       "      <td>0.630232</td>\n",
       "      <td>NaN</td>\n",
       "      <td>NaN</td>\n",
       "      <td>NaN</td>\n",
       "      <td>-0.001957</td>\n",
       "      <td>NaN</td>\n",
       "      <td>NaN</td>\n",
       "      <td>0.0</td>\n",
       "      <td>NaN</td>\n",
       "      <td>-0.007338</td>\n",
       "    </tr>\n",
       "  </tbody>\n",
       "</table>\n",
       "<p>5 rows × 111 columns</p>\n",
       "</div>"
      ],
      "text/plain": [
       "     id  timestamp  derived_0  derived_1  derived_2  derived_3  derived_4  \\\n",
       "0  10.0        0.0   0.370326  -0.006316   0.222831  -0.213030   0.729277   \n",
       "1  11.0        0.0   0.014765  -0.038064  -0.017425   0.320652  -0.034134   \n",
       "2  12.0        0.0  -0.010622  -0.050577   3.379575  -0.157525  -0.068550   \n",
       "3  25.0        0.0        NaN        NaN        NaN        NaN        NaN   \n",
       "4  26.0        0.0   0.176693  -0.025284  -0.057680   0.015100   0.180894   \n",
       "\n",
       "   fundamental_0  fundamental_1  fundamental_2    ...     technical_36  \\\n",
       "0      -0.335633       0.113292       1.621238    ...         0.775208   \n",
       "1       0.004413       0.114285      -0.210185    ...         0.025590   \n",
       "2      -0.155937       1.219439      -0.764516    ...         0.151881   \n",
       "3       0.178495            NaN      -0.007262    ...         1.035936   \n",
       "4       0.139445      -0.125687      -0.018707    ...         0.630232   \n",
       "\n",
       "   technical_37  technical_38  technical_39  technical_40  technical_41  \\\n",
       "0           NaN           NaN           NaN     -0.414776           NaN   \n",
       "1           NaN           NaN           NaN     -0.273607           NaN   \n",
       "2           NaN           NaN           NaN     -0.175710           NaN   \n",
       "3           NaN           NaN           NaN     -0.211506           NaN   \n",
       "4           NaN           NaN           NaN     -0.001957           NaN   \n",
       "\n",
       "   technical_42  technical_43  technical_44         y  \n",
       "0           NaN          -2.0           NaN -0.011753  \n",
       "1           NaN          -2.0           NaN -0.001240  \n",
       "2           NaN          -2.0           NaN -0.020940  \n",
       "3           NaN          -2.0           NaN -0.015959  \n",
       "4           NaN           0.0           NaN -0.007338  \n",
       "\n",
       "[5 rows x 111 columns]"
      ]
     },
     "execution_count": 16,
     "metadata": {},
     "output_type": "execute_result"
    }
   ],
   "source": [
    "dff.head()"
   ]
  },
  {
   "cell_type": "code",
   "execution_count": 17,
   "metadata": {
    "collapsed": false
   },
   "outputs": [],
   "source": [
    "df = DF"
   ]
  },
  {
   "cell_type": "code",
   "execution_count": 18,
   "metadata": {
    "collapsed": false
   },
   "outputs": [
    {
     "name": "stdout",
     "output_type": "stream",
     "text": [
      "Number of rows with a NaN: 1487716\n",
      "Number of rows without a NaN: 223040\n"
     ]
    }
   ],
   "source": [
    "df_idx = df.iloc[:,:].isnull()\n",
    "no_nan = np.sum(np.sum(df_idx,axis=1) > 0) # number of rows with at least 1 NAN\n",
    "no_nnan = len(df_idx) - no_nan\n",
    "\n",
    "print 'Number of rows with a NaN: {0}'.format(no_nan)\n",
    "print 'Number of rows without a NaN: {0}'.format(no_nnan)"
   ]
  },
  {
   "cell_type": "code",
   "execution_count": 19,
   "metadata": {
    "collapsed": true
   },
   "outputs": [],
   "source": [
    "df_nnan = df.dropna(axis=0,how='any')"
   ]
  },
  {
   "cell_type": "code",
   "execution_count": 20,
   "metadata": {
    "collapsed": false
   },
   "outputs": [
    {
     "data": {
      "text/plain": [
       "(223040, 111)"
      ]
     },
     "execution_count": 20,
     "metadata": {},
     "output_type": "execute_result"
    }
   ],
   "source": [
    "df_nnan.shape"
   ]
  },
  {
   "cell_type": "code",
   "execution_count": 21,
   "metadata": {
    "collapsed": false
   },
   "outputs": [],
   "source": [
    "import numpy as np\n",
    "data = df_nnan[:3000]\n",
    "data = np.array(data)\n",
    "data.shape\n",
    "X = data[:,2:-1]\n",
    "Y = data[:,-1].reshape(3000,1)\n",
    "# data"
   ]
  },
  {
   "cell_type": "code",
   "execution_count": 22,
   "metadata": {
    "collapsed": false
   },
   "outputs": [
    {
     "data": {
      "text/plain": [
       "(3000, 108)"
      ]
     },
     "execution_count": 22,
     "metadata": {},
     "output_type": "execute_result"
    }
   ],
   "source": [
    "X.shape"
   ]
  },
  {
   "cell_type": "code",
   "execution_count": 23,
   "metadata": {
    "collapsed": false
   },
   "outputs": [
    {
     "data": {
      "text/plain": [
       "(3000, 1)"
      ]
     },
     "execution_count": 23,
     "metadata": {},
     "output_type": "execute_result"
    }
   ],
   "source": [
    "Y.shape"
   ]
  },
  {
   "cell_type": "code",
   "execution_count": 25,
   "metadata": {
    "collapsed": false
   },
   "outputs": [
    {
     "name": "stderr",
     "output_type": "stream",
     "text": [
      "/Users/Steffi/tensorflow/lib/python2.7/site-packages/sklearn/cross_validation.py:44: DeprecationWarning: This module was deprecated in version 0.18 in favor of the model_selection module into which all the refactored classes and functions are moved. Also note that the interface of the new CV iterators are different from that of this module. This module will be removed in 0.20.\n",
      "  \"This module will be removed in 0.20.\", DeprecationWarning)\n"
     ]
    }
   ],
   "source": [
    "from sklearn.cross_validation import train_test_split\n",
    "trainX,testx,trainY,testy = train_test_split(X,Y,test_size = 0.1)"
   ]
  },
  {
   "cell_type": "code",
   "execution_count": 26,
   "metadata": {
    "collapsed": false
   },
   "outputs": [
    {
     "data": {
      "text/plain": [
       "(2700, 108)"
      ]
     },
     "execution_count": 26,
     "metadata": {},
     "output_type": "execute_result"
    }
   ],
   "source": [
    "trainX.shape"
   ]
  },
  {
   "cell_type": "code",
   "execution_count": 27,
   "metadata": {
    "collapsed": false
   },
   "outputs": [
    {
     "name": "stderr",
     "output_type": "stream",
     "text": [
      "Using TensorFlow backend.\n"
     ]
    }
   ],
   "source": [
    "# Import Keras Libraries\n",
    "from keras.models import Sequential\n",
    "from keras.layers import Dense, Activation\n",
    "from keras.optimizers import SGD\n",
    "import sklearn"
   ]
  },
  {
   "cell_type": "code",
   "execution_count": 28,
   "metadata": {
    "collapsed": false
   },
   "outputs": [],
   "source": [
    "# Define Model Parameters\n",
    "nb_feat   = 108   # no. of features/columns of input\n",
    "L1_units  = 100   # no. of nodes in Layer 1\n",
    "L2_units  = 80   # no. of nodes in Layer 2\n",
    "L3_units  = 50   # no. of nodes in Layer 2\n",
    "L4_units = 10\n",
    "nb_class  = 1    # no. of output classes\n",
    "\n",
    "model = Sequential()\n",
    "# Neural Network Model\n",
    "model = Sequential()                             # Sequential network model description\n",
    "model.add(Dense(L1_units,input_dim=108))    # Add 1st Dense Layer\n",
    "model.add(Activation(\"relu\"))                    # Add activation function\n",
    "\n",
    "model.add(Dense(L2_units,))                       # Add 2nd Dense Layer\n",
    "model.add(Activation(\"relu\"))                    # Add activation function\n",
    "\n",
    "model.add(Dense(L3_units))                       # Add 3nd Dense Layer\n",
    "model.add(Activation(\"relu\"))                    # Add activation function\n",
    "\n",
    "model.add(Dense(L4_units))                       # Add 4nd Dense Layer\n",
    "model.add(Activation(\"relu\"))                    # Add activation function\n",
    "\n",
    "model.add(Dense(nb_class))                       # Add 5rd Dense Layer, also the classification layer\n",
    "model.add(Activation('softmax'))                 # Add sigmoid classification\n"
   ]
  },
  {
   "cell_type": "code",
   "execution_count": 29,
   "metadata": {
    "collapsed": true
   },
   "outputs": [],
   "source": [
    "model.compile(loss='mean_squared_error',optimizer='rmsprop', metrics=['accuracy'])"
   ]
  },
  {
   "cell_type": "code",
   "execution_count": 30,
   "metadata": {
    "collapsed": false
   },
   "outputs": [
    {
     "name": "stdout",
     "output_type": "stream",
     "text": [
      "Train on 2700 samples, validate on 300 samples\n",
      "Epoch 1/30\n",
      "1s - loss: 0.9989 - acc: 0.0000e+00 - val_loss: 0.9965 - val_acc: 0.0000e+00\n",
      "Epoch 2/30\n",
      "0s - loss: 0.9989 - acc: 0.0000e+00 - val_loss: 0.9965 - val_acc: 0.0000e+00\n",
      "Epoch 3/30\n",
      "0s - loss: 0.9989 - acc: 0.0000e+00 - val_loss: 0.9965 - val_acc: 0.0000e+00\n",
      "Epoch 4/30\n",
      "0s - loss: 0.9989 - acc: 0.0000e+00 - val_loss: 0.9965 - val_acc: 0.0000e+00\n",
      "Epoch 5/30\n",
      "0s - loss: 0.9989 - acc: 0.0000e+00 - val_loss: 0.9965 - val_acc: 0.0000e+00\n",
      "Epoch 6/30\n",
      "0s - loss: 0.9989 - acc: 0.0000e+00 - val_loss: 0.9965 - val_acc: 0.0000e+00\n",
      "Epoch 7/30\n",
      "0s - loss: 0.9989 - acc: 0.0000e+00 - val_loss: 0.9965 - val_acc: 0.0000e+00\n",
      "Epoch 8/30\n",
      "0s - loss: 0.9989 - acc: 0.0000e+00 - val_loss: 0.9965 - val_acc: 0.0000e+00\n",
      "Epoch 9/30\n",
      "0s - loss: 0.9989 - acc: 0.0000e+00 - val_loss: 0.9965 - val_acc: 0.0000e+00\n",
      "Epoch 10/30\n",
      "0s - loss: 0.9989 - acc: 0.0000e+00 - val_loss: 0.9965 - val_acc: 0.0000e+00\n",
      "Epoch 11/30\n",
      "0s - loss: 0.9989 - acc: 0.0000e+00 - val_loss: 0.9965 - val_acc: 0.0000e+00\n",
      "Epoch 12/30\n",
      "0s - loss: 0.9989 - acc: 0.0000e+00 - val_loss: 0.9965 - val_acc: 0.0000e+00\n",
      "Epoch 13/30\n",
      "0s - loss: 0.9989 - acc: 0.0000e+00 - val_loss: 0.9965 - val_acc: 0.0000e+00\n",
      "Epoch 14/30\n",
      "0s - loss: 0.9989 - acc: 0.0000e+00 - val_loss: 0.9965 - val_acc: 0.0000e+00\n",
      "Epoch 15/30\n",
      "0s - loss: 0.9989 - acc: 0.0000e+00 - val_loss: 0.9965 - val_acc: 0.0000e+00\n",
      "Epoch 16/30\n",
      "0s - loss: 0.9989 - acc: 0.0000e+00 - val_loss: 0.9965 - val_acc: 0.0000e+00\n",
      "Epoch 17/30\n",
      "0s - loss: 0.9989 - acc: 0.0000e+00 - val_loss: 0.9965 - val_acc: 0.0000e+00\n",
      "Epoch 18/30\n",
      "0s - loss: 0.9989 - acc: 0.0000e+00 - val_loss: 0.9965 - val_acc: 0.0000e+00\n",
      "Epoch 19/30\n",
      "0s - loss: 0.9989 - acc: 0.0000e+00 - val_loss: 0.9965 - val_acc: 0.0000e+00\n",
      "Epoch 20/30\n",
      "0s - loss: 0.9989 - acc: 0.0000e+00 - val_loss: 0.9965 - val_acc: 0.0000e+00\n",
      "Epoch 21/30\n",
      "0s - loss: 0.9989 - acc: 0.0000e+00 - val_loss: 0.9965 - val_acc: 0.0000e+00\n",
      "Epoch 22/30\n",
      "0s - loss: 0.9989 - acc: 0.0000e+00 - val_loss: 0.9965 - val_acc: 0.0000e+00\n",
      "Epoch 23/30\n",
      "0s - loss: 0.9989 - acc: 0.0000e+00 - val_loss: 0.9965 - val_acc: 0.0000e+00\n",
      "Epoch 24/30\n",
      "0s - loss: 0.9989 - acc: 0.0000e+00 - val_loss: 0.9965 - val_acc: 0.0000e+00\n",
      "Epoch 25/30\n",
      "0s - loss: 0.9989 - acc: 0.0000e+00 - val_loss: 0.9965 - val_acc: 0.0000e+00\n",
      "Epoch 26/30\n",
      "0s - loss: 0.9989 - acc: 0.0000e+00 - val_loss: 0.9965 - val_acc: 0.0000e+00\n",
      "Epoch 27/30\n",
      "0s - loss: 0.9989 - acc: 0.0000e+00 - val_loss: 0.9965 - val_acc: 0.0000e+00\n",
      "Epoch 28/30\n",
      "0s - loss: 0.9989 - acc: 0.0000e+00 - val_loss: 0.9965 - val_acc: 0.0000e+00\n",
      "Epoch 29/30\n",
      "1s - loss: 0.9989 - acc: 0.0000e+00 - val_loss: 0.9965 - val_acc: 0.0000e+00\n",
      "Epoch 30/30\n",
      "0s - loss: 0.9989 - acc: 0.0000e+00 - val_loss: 0.9965 - val_acc: 0.0000e+00\n"
     ]
    }
   ],
   "source": [
    "log = model.fit(trainX, trainY,nb_epoch=30, batch_size=20, verbose=2,validation_data=(testx, testy))\n",
    "# df3k = df_3k.iloc[:,2:]\n",
    "# sname = 'xtrip.csv'\n",
    "# np.savetxt(sname,delimeter = ',')"
   ]
  },
  {
   "cell_type": "code",
   "execution_count": null,
   "metadata": {
    "collapsed": true
   },
   "outputs": [],
   "source": []
  }
 ],
 "metadata": {
  "kernelspec": {
   "display_name": "Python 2",
   "language": "python",
   "name": "python2"
  },
  "language_info": {
   "codemirror_mode": {
    "name": "ipython",
    "version": 2
   },
   "file_extension": ".py",
   "mimetype": "text/x-python",
   "name": "python",
   "nbconvert_exporter": "python",
   "pygments_lexer": "ipython2",
   "version": "2.7.12"
  }
 },
 "nbformat": 4,
 "nbformat_minor": 2
}
